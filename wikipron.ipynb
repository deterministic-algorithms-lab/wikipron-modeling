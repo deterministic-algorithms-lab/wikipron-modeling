{
  "nbformat": 4,
  "nbformat_minor": 0,
  "metadata": {
    "colab": {
      "name": "wikipron.ipynb",
      "provenance": [],
      "collapsed_sections": [],
      "authorship_tag": "ABX9TyNtl+NATiK9v7AVPskgXbmd",
      "include_colab_link": true
    },
    "kernelspec": {
      "name": "python3",
      "display_name": "Python 3"
    }
  },
  "cells": [
    {
      "cell_type": "markdown",
      "metadata": {
        "id": "view-in-github",
        "colab_type": "text"
      },
      "source": [
        "<a href=\"https://colab.research.google.com/github/deterministic-algorithms-lab/wikipron-modeling/blob/master/wikipron.ipynb\" target=\"_parent\"><img src=\"https://colab.research.google.com/assets/colab-badge.svg\" alt=\"Open In Colab\"/></a>"
      ]
    },
    {
      "cell_type": "code",
      "metadata": {
        "id": "oKHzEhAnrfci",
        "colab_type": "code",
        "colab": {}
      },
      "source": [
        "!pip install wikipron"
      ],
      "execution_count": null,
      "outputs": []
    },
    {
      "cell_type": "code",
      "metadata": {
        "id": "7XiHiGKQ5I06",
        "colab_type": "code",
        "colab": {}
      },
      "source": [
        "!pip install pynini ngram openfst"
      ],
      "execution_count": null,
      "outputs": []
    },
    {
      "cell_type": "code",
      "metadata": {
        "id": "KBMlR2rwB8aT",
        "colab_type": "code",
        "colab": {}
      },
      "source": [
        "!git clone https://github.com/pytorch/fairseq\n",
        "%cd fairseq\n",
        "!pip install --editable ./"
      ],
      "execution_count": null,
      "outputs": []
    },
    {
      "cell_type": "code",
      "metadata": {
        "id": "bGVL40cfCRDC",
        "colab_type": "code",
        "colab": {}
      },
      "source": [
        "%cd .."
      ],
      "execution_count": null,
      "outputs": []
    },
    {
      "cell_type": "code",
      "metadata": {
        "id": "a_1EybgQ1GNr",
        "colab_type": "code",
        "colab": {}
      },
      "source": [
        "lg = 'hin'"
      ],
      "execution_count": 3,
      "outputs": []
    },
    {
      "cell_type": "code",
      "metadata": {
        "id": "Tzduyw1Zx6_9",
        "colab_type": "code",
        "colab": {}
      },
      "source": [
        "!git clone https://github.com/kylebgorman/wikipron-modeling"
      ],
      "execution_count": null,
      "outputs": []
    },
    {
      "cell_type": "code",
      "metadata": {
        "id": "5j3XRh-Lx_Mi",
        "colab_type": "code",
        "colab": {
          "base_uri": "https://localhost:8080/",
          "height": 35
        },
        "outputId": "77478639-9290-4dff-9ff2-d0b52bf007d9"
      },
      "source": [
        "%cd wikipron-modeling/\n",
        "!mkdir data"
      ],
      "execution_count": 6,
      "outputs": [
        {
          "output_type": "stream",
          "text": [
            "/content/wikipron-modeling\n"
          ],
          "name": "stdout"
        }
      ]
    },
    {
      "cell_type": "code",
      "metadata": {
        "id": "Ts14qYFu4Mhi",
        "colab_type": "code",
        "colab": {
          "base_uri": "https://localhost:8080/",
          "height": 35
        },
        "outputId": "568f15cf-4dc1-40a3-aa91-38d593612902"
      },
      "source": [
        "!conda env create -f environment.yml"
      ],
      "execution_count": 23,
      "outputs": [
        {
          "output_type": "stream",
          "text": [
            "/bin/bash: conda: command not found\n"
          ],
          "name": "stdout"
        }
      ]
    },
    {
      "cell_type": "code",
      "metadata": {
        "id": "LEHDAyG3t-ry",
        "colab_type": "code",
        "colab": {
          "base_uri": "https://localhost:8080/",
          "height": 35
        },
        "outputId": "5e4402ec-acaa-490a-d64b-25d03ff0520a"
      },
      "source": [
        "%cd data\n",
        "!mkdir {train,test,dev}"
      ],
      "execution_count": 7,
      "outputs": [
        {
          "output_type": "stream",
          "text": [
            "/content/wikipron-modeling/data\n"
          ],
          "name": "stdout"
        }
      ]
    },
    {
      "cell_type": "code",
      "metadata": {
        "id": "xJjGiU8JrhyI",
        "colab_type": "code",
        "colab": {}
      },
      "source": [
        "#!wikipron {lg} > {lg}.tsv\n",
        "!shuf {lg}.tsv > shuf_{lg}.tsv\n",
        "!rm {lg}.tsv\n",
        "!mv shuf_{lg}.tsv {lg}.tsv"
      ],
      "execution_count": 18,
      "outputs": []
    },
    {
      "cell_type": "code",
      "metadata": {
        "id": "dk_zAybP2l_E",
        "colab_type": "code",
        "colab": {}
      },
      "source": [
        "train_dev_lines=2                               #No. of Lines to be put in training and dev sets."
      ],
      "execution_count": 19,
      "outputs": []
    },
    {
      "cell_type": "code",
      "metadata": {
        "id": "N1tdDZnjuBJb",
        "colab_type": "code",
        "colab": {}
      },
      "source": [
        "!tail -n {train_dev_lines} {lg}.tsv > test/{lg}_test.tsv\n",
        "!head -n -{train_dev_lines} {lg}.tsv > temp_{lg}.tsv\n",
        "!rm {lg}.tsv\n",
        "!mv temp_{lg}.tsv {lg}.tsv\n",
        "\n",
        "!tail -n {train_dev_lines} {lg}.tsv > dev/{lg}_dev.tsv\n",
        "!head -n -{train_dev_lines} {lg}.tsv > train/{lg}_train.tsv\n",
        "!rm {lg}.tsv"
      ],
      "execution_count": 20,
      "outputs": []
    },
    {
      "cell_type": "code",
      "metadata": {
        "id": "-IVNcw1f1-2E",
        "colab_type": "code",
        "colab": {
          "base_uri": "https://localhost:8080/",
          "height": 35
        },
        "outputId": "dd0e5077-d7bc-4383-c2a8-1e78c7da9ecd"
      },
      "source": [
        "%cd ../nn"
      ],
      "execution_count": 81,
      "outputs": [
        {
          "output_type": "stream",
          "text": [
            "/content/wikipron-modeling/nn\n"
          ],
          "name": "stdout"
        }
      ]
    },
    {
      "cell_type": "code",
      "metadata": {
        "id": "GMbHAEAV4FT3",
        "colab_type": "code",
        "colab": {}
      },
      "source": [
        "!bash ./preprocess"
      ],
      "execution_count": 114,
      "outputs": []
    },
    {
      "cell_type": "code",
      "metadata": {
        "id": "r4zX1mSjDyed",
        "colab_type": "code",
        "colab": {}
      },
      "source": [
        "!fairseq-preprocess --source-lang {lg}.graphemes --target-lang {lg}.phonemes --trainpref ./data-txt/train \\\n",
        "--testpref ./data-txt/test --validpref ./data-txt/dev --destdir ./data-bin/{lg}/"
      ],
      "execution_count": null,
      "outputs": []
    },
    {
      "cell_type": "code",
      "metadata": {
        "id": "MeZg9TgP5nvD",
        "colab_type": "code",
        "colab": {}
      },
      "source": [
        "!bash ./sweep"
      ],
      "execution_count": null,
      "outputs": []
    },
    {
      "cell_type": "code",
      "metadata": {
        "id": "ZJfotJQaBEls",
        "colab_type": "code",
        "colab": {}
      },
      "source": [
        ""
      ],
      "execution_count": null,
      "outputs": []
    }
  ]
}