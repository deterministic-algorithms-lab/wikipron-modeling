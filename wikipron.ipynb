{
  "nbformat": 4,
  "nbformat_minor": 0,
  "metadata": {
    "colab": {
      "name": "wikipron.ipynb",
      "provenance": [],
      "collapsed_sections": [],
      "authorship_tag": "ABX9TyNtl+NATiK9v7AVPskgXbmd",
      "include_colab_link": true
    },
    "kernelspec": {
      "name": "python3",
      "display_name": "Python 3"
    }
  },
  "cells": [
    {
      "cell_type": "markdown",
      "metadata": {
        "id": "view-in-github",
        "colab_type": "text"
      },
      "source": [
        "<a href=\"https://colab.research.google.com/github/deterministic-algorithms-lab/wikipron-modeling/blob/master/wikipron.ipynb\" target=\"_parent\"><img src=\"https://colab.research.google.com/assets/colab-badge.svg\" alt=\"Open In Colab\"/></a>"
      ]
    },
    {
      "cell_type": "code",
      "metadata": {
        "id": "oKHzEhAnrfci",
        "colab_type": "code",
        "colab": {}
      },
      "source": [
        "!pip install wikipron"
      ],
      "execution_count": null,
      "outputs": []
    },
    {
      "cell_type": "code",
      "metadata": {
        "id": "7XiHiGKQ5I06",
        "colab_type": "code",
        "colab": {}
      },
      "source": [
        "!pip install pynini ngram openfst"
      ],
      "execution_count": null,
      "outputs": []
    },
    {
      "cell_type": "code",
      "metadata": {
        "id": "KBMlR2rwB8aT",
        "colab_type": "code",
        "colab": {}
      },
      "source": [
        "!git clone https://github.com/pytorch/fairseq\n",
        "%cd fairseq\n",
        "!pip install --editable ./"
      ],
      "execution_count": null,
      "outputs": []
    },
    {
      "cell_type": "code",
      "metadata": {
        "id": "bGVL40cfCRDC",
        "colab_type": "code",
        "colab": {}
      },
      "source": [
        "%cd .."
      ],
      "execution_count": null,
      "outputs": []
    },
    {
      "cell_type": "code",
      "metadata": {
        "id": "a_1EybgQ1GNr",
        "colab_type": "code",
        "colab": {}
      },
      "source": [
        "lg = 'hin'"
      ],
      "execution_count": null,
      "outputs": []
    },
    {
      "cell_type": "code",
      "metadata": {
        "id": "Tzduyw1Zx6_9",
        "colab_type": "code",
        "colab": {}
      },
      "source": [
        "!git clone https://github.com/deterministic-algorithms-lab/wikipron-modeling"
      ],
      "execution_count": null,
      "outputs": []
    },
    {
      "cell_type": "code",
      "metadata": {
        "id": "5j3XRh-Lx_Mi",
        "colab_type": "code",
        "colab": {}
      },
      "source": [
        "%cd wikipron-modeling/\n",
        "!mkdir data"
      ],
      "execution_count": null,
      "outputs": []
    },
    {
      "cell_type": "code",
      "metadata": {
        "id": "LEHDAyG3t-ry",
        "colab_type": "code",
        "colab": {}
      },
      "source": [
        "%cd data\n",
        "!mkdir {train,test,dev}"
      ],
      "execution_count": null,
      "outputs": []
    },
    {
      "cell_type": "code",
      "metadata": {
        "id": "xJjGiU8JrhyI",
        "colab_type": "code",
        "colab": {}
      },
      "source": [
        "#!wikipron {lg} > {lg}.tsv\n",
        "!shuf {lg}.tsv > shuf_{lg}.tsv\n",
        "!rm {lg}.tsv\n",
        "!mv shuf_{lg}.tsv {lg}.tsv"
      ],
      "execution_count": null,
      "outputs": []
    },
    {
      "cell_type": "code",
      "metadata": {
        "id": "VHbO31EpFKVQ",
        "colab_type": "code",
        "colab": {}
      },
      "source": [
        "#Cleans Data & splits it(80:10:10). [Remove short words + NFC normalisation + resolve multiple gold targets for same word]\n",
        "!bash ../scripts/prepare"
      ],
      "execution_count": null,
      "outputs": []
    },
    {
      "cell_type": "code",
      "metadata": {
        "id": "IWxxr_2iEHTI",
        "colab_type": "code",
        "colab": {}
      },
      "source": [
        "!mv {lg}_dev.tsv ./dev/\n",
        "!mv {lg}_train.tsv ./train/\n",
        "!mv {lg}_test.tsv ./test/"
      ],
      "execution_count": null,
      "outputs": []
    },
    {
      "cell_type": "code",
      "metadata": {
        "id": "-IVNcw1f1-2E",
        "colab_type": "code",
        "colab": {}
      },
      "source": [
        "%cd ../nn"
      ],
      "execution_count": null,
      "outputs": []
    },
    {
      "cell_type": "code",
      "metadata": {
        "id": "GMbHAEAV4FT3",
        "colab_type": "code",
        "colab": {}
      },
      "source": [
        "!bash ./preprocess"
      ],
      "execution_count": null,
      "outputs": []
    },
    {
      "cell_type": "code",
      "metadata": {
        "id": "r4zX1mSjDyed",
        "colab_type": "code",
        "colab": {}
      },
      "source": [
        "!fairseq-preprocess --source-lang {lg}.graphemes --target-lang {lg}.phonemes --trainpref ./data-txt/train \\\n",
        "--testpref ./data-txt/test --validpref ./data-txt/dev --destdir ./data-bin/{lg}/"
      ],
      "execution_count": null,
      "outputs": []
    },
    {
      "cell_type": "code",
      "metadata": {
        "id": "MeZg9TgP5nvD",
        "colab_type": "code",
        "colab": {}
      },
      "source": [
        "!bash ./sweep"
      ],
      "execution_count": null,
      "outputs": []
    }
  ]
}
